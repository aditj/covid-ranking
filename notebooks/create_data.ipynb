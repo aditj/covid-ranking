{
 "cells": [
  {
   "cell_type": "markdown",
   "metadata": {},
   "source": [
    "# Libraries"
   ]
  },
  {
   "cell_type": "code",
   "execution_count": 1,
   "metadata": {},
   "outputs": [],
   "source": [
    "import pandas as pd\n",
    "import matplotlib.pyplot as plt\n",
    "from functools import reduce"
   ]
  },
  {
   "cell_type": "code",
   "execution_count": 4,
   "metadata": {},
   "outputs": [],
   "source": [
    "pd.set_option('display.expand_frame_repr', False)\n",
    "pd.set_option('display.precision', 2)"
   ]
  },
  {
   "cell_type": "markdown",
   "metadata": {},
   "source": [
    "# Create Census Data"
   ]
  },
  {
   "cell_type": "code",
   "execution_count": 181,
   "metadata": {},
   "outputs": [],
   "source": [
    "age=pd.read_csv(\"../data/acs/ACSDT5Y2019.B01002_2020-12-15T021141/data.csv\",skiprows=1).iloc[:,[0,2]]\n",
    "age['id']=age[\"id\"].apply(lambda x:x[-5:])\n",
    "age=age.rename({\"Estimate!!Median age --!!Total:\":\"median_age\"},axis=1)"
   ]
  },
  {
   "cell_type": "code",
   "execution_count": 182,
   "metadata": {},
   "outputs": [],
   "source": [
    "pop=pd.read_csv(\"../data/acs/ACSDT5Y2019.B01003_2020-12-15T021819/data.csv\",skiprows=1).iloc[:,[0,2]]\n",
    "pop['id']=pop[\"id\"].apply(lambda x:x[-5:])\n",
    "pop=pop.rename({\"Estimate!!Total\":\"pop\",\"Geographic Area Name\":\"County Name\"},axis=1)"
   ]
  },
  {
   "cell_type": "code",
   "execution_count": 183,
   "metadata": {},
   "outputs": [],
   "source": [
    "race=pd.read_csv(\"../data/acs/ACSDT5Y2019.B02001_2020-12-15T045802/data.csv\",skiprows=1).iloc[:,[0,6]]\n",
    "race['id']=race[\"id\"].apply(lambda x:x[-5:])\n",
    "race=race.rename({\"Estimate!!Total:!!Black or African American alone\":\"african_american\",},axis=1)"
   ]
  },
  {
   "cell_type": "code",
   "execution_count": 185,
   "metadata": {},
   "outputs": [],
   "source": [
    "inc=pd.read_csv(\"../data/acs/ACSDT5Y2019.B07011_2020-12-15T060656/data.csv\",skiprows=1).iloc[:,[0,2]]\n",
    "inc['id']=inc[\"id\"].apply(lambda x:x[-5:])\n",
    "inc=inc.rename({\"Estimate!!Median income in the past 12 months --!!Total:\":\"median_income\",},axis=1)"
   ]
  },
  {
   "cell_type": "code",
   "execution_count": 186,
   "metadata": {},
   "outputs": [],
   "source": [
    "lnd=pd.read_excel('../data/acs/LND01.xls')\n",
    "lnd=lnd[['STCOU','LND110210D']]\n",
    "lnd=lnd.rename({'STCOU':'id','LND110210D':'area'},axis=1)\n",
    "lnd['id']=lnd['id'].apply(lambda x: str(x).zfill(5))"
   ]
  },
  {
   "cell_type": "code",
   "execution_count": 187,
   "metadata": {},
   "outputs": [],
   "source": [
    "dataframes=[age,pop,race,inc,lnd]\n",
    "df_merged = reduce(lambda  left,right: pd.merge(left,right,on=['id']), dataframes)"
   ]
  },
  {
   "cell_type": "code",
   "execution_count": 188,
   "metadata": {
    "scrolled": true
   },
   "outputs": [],
   "source": [
    "df_merged['pop_density']=df_merged['pop']/df_merged['area']"
   ]
  },
  {
   "cell_type": "code",
   "execution_count": 190,
   "metadata": {},
   "outputs": [],
   "source": [
    "df_merged.to_csv(\"../data/census.csv\")"
   ]
  },
  {
   "cell_type": "code",
   "execution_count": 55,
   "metadata": {},
   "outputs": [],
   "source": [
    "se=pd.read_csv('../data/socialexplorer/socialexplorer.csv',encoding = \"ISO-8859-1\")"
   ]
  },
  {
   "cell_type": "code",
   "execution_count": 56,
   "metadata": {},
   "outputs": [],
   "source": [
    "tables=['T001_001','T002_002','T008_010','T008_011','T008_012','T008_013','T044_001','T054_003','T055_010']\n",
    "names=[]\n",
    "tables=['SE_'+ t for t in tables]\n",
    "se=se[['Geo_FIPS']+tables].copy()\n",
    "se['over65']=se.iloc[:,3:7].sum(axis=1)\n",
    "se=se.drop(se.columns[3:7],axis=1)\n",
    "se=se.rename(columns=dict(zip(se.columns, ['fips','pop','pop_density','median_age','afr','hisp','over65'])))"
   ]
  },
  {
   "cell_type": "code",
   "execution_count": 57,
   "metadata": {},
   "outputs": [],
   "source": [
    "se[['afr','hisp','over65']]=se[['afr','hisp','over65']].div(se['pop'],axis=0)*100"
   ]
  },
  {
   "cell_type": "code",
   "execution_count": 58,
   "metadata": {},
   "outputs": [
    {
     "data": {
      "text/html": [
       "<div>\n",
       "<style scoped>\n",
       "    .dataframe tbody tr th:only-of-type {\n",
       "        vertical-align: middle;\n",
       "    }\n",
       "\n",
       "    .dataframe tbody tr th {\n",
       "        vertical-align: top;\n",
       "    }\n",
       "\n",
       "    .dataframe thead th {\n",
       "        text-align: right;\n",
       "    }\n",
       "</style>\n",
       "<table border=\"1\" class=\"dataframe\">\n",
       "  <thead>\n",
       "    <tr style=\"text-align: right;\">\n",
       "      <th></th>\n",
       "      <th>fips</th>\n",
       "      <th>pop</th>\n",
       "      <th>pop_density</th>\n",
       "      <th>median_age</th>\n",
       "      <th>afr</th>\n",
       "      <th>hisp</th>\n",
       "      <th>over65</th>\n",
       "    </tr>\n",
       "  </thead>\n",
       "  <tbody>\n",
       "    <tr>\n",
       "      <th>0</th>\n",
       "      <td>1001</td>\n",
       "      <td>54571</td>\n",
       "      <td>91.80297</td>\n",
       "      <td>37.0</td>\n",
       "      <td>17.670558</td>\n",
       "      <td>2.400542</td>\n",
       "      <td>22.733686</td>\n",
       "    </tr>\n",
       "    <tr>\n",
       "      <th>1</th>\n",
       "      <td>1003</td>\n",
       "      <td>182265</td>\n",
       "      <td>114.64760</td>\n",
       "      <td>41.1</td>\n",
       "      <td>9.384687</td>\n",
       "      <td>4.384824</td>\n",
       "      <td>30.232354</td>\n",
       "    </tr>\n",
       "    <tr>\n",
       "      <th>2</th>\n",
       "      <td>1005</td>\n",
       "      <td>27457</td>\n",
       "      <td>31.02920</td>\n",
       "      <td>39.0</td>\n",
       "      <td>46.891503</td>\n",
       "      <td>5.051535</td>\n",
       "      <td>27.406490</td>\n",
       "    </tr>\n",
       "    <tr>\n",
       "      <th>3</th>\n",
       "      <td>1007</td>\n",
       "      <td>22915</td>\n",
       "      <td>36.80638</td>\n",
       "      <td>37.8</td>\n",
       "      <td>22.024875</td>\n",
       "      <td>1.771765</td>\n",
       "      <td>24.617063</td>\n",
       "    </tr>\n",
       "    <tr>\n",
       "      <th>4</th>\n",
       "      <td>1009</td>\n",
       "      <td>57322</td>\n",
       "      <td>88.90221</td>\n",
       "      <td>39.0</td>\n",
       "      <td>1.327588</td>\n",
       "      <td>8.070200</td>\n",
       "      <td>27.415303</td>\n",
       "    </tr>\n",
       "    <tr>\n",
       "      <th>...</th>\n",
       "      <td>...</td>\n",
       "      <td>...</td>\n",
       "      <td>...</td>\n",
       "      <td>...</td>\n",
       "      <td>...</td>\n",
       "      <td>...</td>\n",
       "      <td>...</td>\n",
       "    </tr>\n",
       "    <tr>\n",
       "      <th>3216</th>\n",
       "      <td>72145</td>\n",
       "      <td>59662</td>\n",
       "      <td>1301.06900</td>\n",
       "      <td>36.5</td>\n",
       "      <td>11.469612</td>\n",
       "      <td>99.264188</td>\n",
       "      <td>25.589152</td>\n",
       "    </tr>\n",
       "    <tr>\n",
       "      <th>3217</th>\n",
       "      <td>72147</td>\n",
       "      <td>9301</td>\n",
       "      <td>183.20610</td>\n",
       "      <td>40.0</td>\n",
       "      <td>28.136759</td>\n",
       "      <td>94.344694</td>\n",
       "      <td>30.297817</td>\n",
       "    </tr>\n",
       "    <tr>\n",
       "      <th>3218</th>\n",
       "      <td>72149</td>\n",
       "      <td>26073</td>\n",
       "      <td>731.63400</td>\n",
       "      <td>33.4</td>\n",
       "      <td>8.483872</td>\n",
       "      <td>99.654815</td>\n",
       "      <td>22.191539</td>\n",
       "    </tr>\n",
       "    <tr>\n",
       "      <th>3219</th>\n",
       "      <td>72151</td>\n",
       "      <td>37941</td>\n",
       "      <td>687.15520</td>\n",
       "      <td>36.7</td>\n",
       "      <td>14.058670</td>\n",
       "      <td>99.327904</td>\n",
       "      <td>25.521204</td>\n",
       "    </tr>\n",
       "    <tr>\n",
       "      <th>3220</th>\n",
       "      <td>72153</td>\n",
       "      <td>42043</td>\n",
       "      <td>616.54160</td>\n",
       "      <td>38.1</td>\n",
       "      <td>5.903480</td>\n",
       "      <td>99.495754</td>\n",
       "      <td>27.371976</td>\n",
       "    </tr>\n",
       "  </tbody>\n",
       "</table>\n",
       "<p>3221 rows × 7 columns</p>\n",
       "</div>"
      ],
      "text/plain": [
       "       fips     pop  pop_density  median_age        afr       hisp     over65\n",
       "0      1001   54571     91.80297        37.0  17.670558   2.400542  22.733686\n",
       "1      1003  182265    114.64760        41.1   9.384687   4.384824  30.232354\n",
       "2      1005   27457     31.02920        39.0  46.891503   5.051535  27.406490\n",
       "3      1007   22915     36.80638        37.8  22.024875   1.771765  24.617063\n",
       "4      1009   57322     88.90221        39.0   1.327588   8.070200  27.415303\n",
       "...     ...     ...          ...         ...        ...        ...        ...\n",
       "3216  72145   59662   1301.06900        36.5  11.469612  99.264188  25.589152\n",
       "3217  72147    9301    183.20610        40.0  28.136759  94.344694  30.297817\n",
       "3218  72149   26073    731.63400        33.4   8.483872  99.654815  22.191539\n",
       "3219  72151   37941    687.15520        36.7  14.058670  99.327904  25.521204\n",
       "3220  72153   42043    616.54160        38.1   5.903480  99.495754  27.371976\n",
       "\n",
       "[3221 rows x 7 columns]"
      ]
     },
     "execution_count": 58,
     "metadata": {},
     "output_type": "execute_result"
    }
   ],
   "source": [
    "se"
   ]
  },
  {
   "cell_type": "code",
   "execution_count": 59,
   "metadata": {},
   "outputs": [],
   "source": [
    "se.to_csv(\"../data/socialexplorer.csv\")"
   ]
  },
  {
   "cell_type": "code",
   "execution_count": 45,
   "metadata": {},
   "outputs": [],
   "source": []
  },
  {
   "cell_type": "markdown",
   "metadata": {},
   "source": [
    "# Create Panel "
   ]
  },
  {
   "cell_type": "code",
   "execution_count": 117,
   "metadata": {},
   "outputs": [],
   "source": [
    "cov=pd.read_csv(\"../data/covid.csv\")"
   ]
  },
  {
   "cell_type": "code",
   "execution_count": 118,
   "metadata": {},
   "outputs": [],
   "source": [
    "cases=cov[cov['date']=='2020-12-13'][['cases','fips','county','state']]"
   ]
  },
  {
   "cell_type": "code",
   "execution_count": 109,
   "metadata": {},
   "outputs": [],
   "source": [
    "spend=pd.read_csv(\"../data/EconomicTracker-main/Affinity - County - Daily.csv\")\n"
   ]
  },
  {
   "cell_type": "code",
   "execution_count": 71,
   "metadata": {},
   "outputs": [],
   "source": [
    "#spend=spend[(spend['freq']=='d')&(spend['month']==10)&(spend['day']==31)&(spend['spend_all'].notna())][['spend_all','countyfips']]"
   ]
  },
  {
   "cell_type": "code",
   "execution_count": 110,
   "metadata": {},
   "outputs": [],
   "source": [
    "#Method 2\n",
    "spend=spend[(spend['freq']=='d')&(spend['spend_all'].notna())]#[['spend_all','countyfips']]"
   ]
  },
  {
   "cell_type": "code",
   "execution_count": 111,
   "metadata": {},
   "outputs": [],
   "source": [
    "spend=spend.groupby(['countyfips'])['spend_all'].mean().reset_index()\n",
    "spend=spend.rename({\"countyfips\":\"fips\"},axis=1)"
   ]
  },
  {
   "cell_type": "code",
   "execution_count": 90,
   "metadata": {},
   "outputs": [],
   "source": [
    "emp= pd.read_csv(\"../data/EconomicTracker-main/Employment Combined - County - Daily.csv\")"
   ]
  },
  {
   "cell_type": "code",
   "execution_count": 100,
   "metadata": {},
   "outputs": [],
   "source": [
    "emp['emp_combined']=emp['emp_combined'].apply(lambda x: None if x=='.' else float(x))\n",
    "emp=emp.dropna().reset_index(drop=True)\n",
    "emp=emp.groupby('countyfips')['emp_combined'].mean().reset_index().rename({\"countyfips\":\"fips\"},axis=1)"
   ]
  },
  {
   "cell_type": "code",
   "execution_count": 102,
   "metadata": {},
   "outputs": [],
   "source": [
    "sme= pd.read_csv(\"../data/EconomicTracker-main/Womply Merchants - County - Daily.csv\")"
   ]
  },
  {
   "cell_type": "code",
   "execution_count": 103,
   "metadata": {},
   "outputs": [],
   "source": [
    "sme=sme.groupby(\"countyfips\")['merchants_all'].mean().reset_index().rename({\"countyfips\":\"fips\"},axis=1)"
   ]
  },
  {
   "cell_type": "code",
   "execution_count": 113,
   "metadata": {},
   "outputs": [],
   "source": [
    "economictracker=pd.merge(pd.merge(emp,sme,on=\"fips\",how=\"outer\"),spend,on=\"fips\",how=\"outer\")"
   ]
  },
  {
   "cell_type": "code",
   "execution_count": 114,
   "metadata": {},
   "outputs": [],
   "source": [
    "economictracker.to_csv(\"../data/economictracker.csv\")"
   ]
  },
  {
   "cell_type": "code",
   "execution_count": 121,
   "metadata": {},
   "outputs": [],
   "source": [
    "merged=pd.merge(cases,economictracker,on=\"fips\")"
   ]
  },
  {
   "cell_type": "code",
   "execution_count": 122,
   "metadata": {},
   "outputs": [
    {
     "data": {
      "text/html": [
       "<div>\n",
       "<style scoped>\n",
       "    .dataframe tbody tr th:only-of-type {\n",
       "        vertical-align: middle;\n",
       "    }\n",
       "\n",
       "    .dataframe tbody tr th {\n",
       "        vertical-align: top;\n",
       "    }\n",
       "\n",
       "    .dataframe thead th {\n",
       "        text-align: right;\n",
       "    }\n",
       "</style>\n",
       "<table border=\"1\" class=\"dataframe\">\n",
       "  <thead>\n",
       "    <tr style=\"text-align: right;\">\n",
       "      <th></th>\n",
       "      <th>cases</th>\n",
       "      <th>fips</th>\n",
       "      <th>county</th>\n",
       "      <th>state</th>\n",
       "      <th>emp_combined</th>\n",
       "      <th>merchants_all</th>\n",
       "      <th>spend_all</th>\n",
       "    </tr>\n",
       "  </thead>\n",
       "  <tbody>\n",
       "    <tr>\n",
       "      <th>0</th>\n",
       "      <td>3300</td>\n",
       "      <td>1001.0</td>\n",
       "      <td>Autauga</td>\n",
       "      <td>Alabama</td>\n",
       "      <td>NaN</td>\n",
       "      <td>NaN</td>\n",
       "      <td>-0.016483</td>\n",
       "    </tr>\n",
       "    <tr>\n",
       "      <th>1</th>\n",
       "      <td>10806</td>\n",
       "      <td>1003.0</td>\n",
       "      <td>Baldwin</td>\n",
       "      <td>Alabama</td>\n",
       "      <td>0.001396</td>\n",
       "      <td>-0.233571</td>\n",
       "      <td>-0.063427</td>\n",
       "    </tr>\n",
       "    <tr>\n",
       "      <th>2</th>\n",
       "      <td>3776</td>\n",
       "      <td>1009.0</td>\n",
       "      <td>Blount</td>\n",
       "      <td>Alabama</td>\n",
       "      <td>NaN</td>\n",
       "      <td>NaN</td>\n",
       "      <td>-0.034662</td>\n",
       "    </tr>\n",
       "    <tr>\n",
       "      <th>3</th>\n",
       "      <td>7813</td>\n",
       "      <td>1015.0</td>\n",
       "      <td>Calhoun</td>\n",
       "      <td>Alabama</td>\n",
       "      <td>-0.043281</td>\n",
       "      <td>-0.135081</td>\n",
       "      <td>-0.030890</td>\n",
       "    </tr>\n",
       "    <tr>\n",
       "      <th>4</th>\n",
       "      <td>1197</td>\n",
       "      <td>1019.0</td>\n",
       "      <td>Cherokee</td>\n",
       "      <td>Alabama</td>\n",
       "      <td>NaN</td>\n",
       "      <td>NaN</td>\n",
       "      <td>-0.135955</td>\n",
       "    </tr>\n",
       "    <tr>\n",
       "      <th>...</th>\n",
       "      <td>...</td>\n",
       "      <td>...</td>\n",
       "      <td>...</td>\n",
       "      <td>...</td>\n",
       "      <td>...</td>\n",
       "      <td>...</td>\n",
       "      <td>...</td>\n",
       "    </tr>\n",
       "    <tr>\n",
       "      <th>1777</th>\n",
       "      <td>540</td>\n",
       "      <td>56035.0</td>\n",
       "      <td>Sublette</td>\n",
       "      <td>Wyoming</td>\n",
       "      <td>NaN</td>\n",
       "      <td>NaN</td>\n",
       "      <td>-0.099363</td>\n",
       "    </tr>\n",
       "    <tr>\n",
       "      <th>1778</th>\n",
       "      <td>2451</td>\n",
       "      <td>56037.0</td>\n",
       "      <td>Sweetwater</td>\n",
       "      <td>Wyoming</td>\n",
       "      <td>NaN</td>\n",
       "      <td>NaN</td>\n",
       "      <td>-0.165431</td>\n",
       "    </tr>\n",
       "    <tr>\n",
       "      <th>1779</th>\n",
       "      <td>1905</td>\n",
       "      <td>56039.0</td>\n",
       "      <td>Teton</td>\n",
       "      <td>Wyoming</td>\n",
       "      <td>-0.056420</td>\n",
       "      <td>NaN</td>\n",
       "      <td>-0.123923</td>\n",
       "    </tr>\n",
       "    <tr>\n",
       "      <th>1780</th>\n",
       "      <td>1307</td>\n",
       "      <td>56041.0</td>\n",
       "      <td>Uinta</td>\n",
       "      <td>Wyoming</td>\n",
       "      <td>NaN</td>\n",
       "      <td>NaN</td>\n",
       "      <td>0.097779</td>\n",
       "    </tr>\n",
       "    <tr>\n",
       "      <th>1781</th>\n",
       "      <td>428</td>\n",
       "      <td>56045.0</td>\n",
       "      <td>Weston</td>\n",
       "      <td>Wyoming</td>\n",
       "      <td>NaN</td>\n",
       "      <td>NaN</td>\n",
       "      <td>-0.035388</td>\n",
       "    </tr>\n",
       "  </tbody>\n",
       "</table>\n",
       "<p>1782 rows × 7 columns</p>\n",
       "</div>"
      ],
      "text/plain": [
       "      cases     fips      county    state  emp_combined  merchants_all  \\\n",
       "0      3300   1001.0     Autauga  Alabama           NaN            NaN   \n",
       "1     10806   1003.0     Baldwin  Alabama      0.001396      -0.233571   \n",
       "2      3776   1009.0      Blount  Alabama           NaN            NaN   \n",
       "3      7813   1015.0     Calhoun  Alabama     -0.043281      -0.135081   \n",
       "4      1197   1019.0    Cherokee  Alabama           NaN            NaN   \n",
       "...     ...      ...         ...      ...           ...            ...   \n",
       "1777    540  56035.0    Sublette  Wyoming           NaN            NaN   \n",
       "1778   2451  56037.0  Sweetwater  Wyoming           NaN            NaN   \n",
       "1779   1905  56039.0       Teton  Wyoming     -0.056420            NaN   \n",
       "1780   1307  56041.0       Uinta  Wyoming           NaN            NaN   \n",
       "1781    428  56045.0      Weston  Wyoming           NaN            NaN   \n",
       "\n",
       "      spend_all  \n",
       "0     -0.016483  \n",
       "1     -0.063427  \n",
       "2     -0.034662  \n",
       "3     -0.030890  \n",
       "4     -0.135955  \n",
       "...         ...  \n",
       "1777  -0.099363  \n",
       "1778  -0.165431  \n",
       "1779  -0.123923  \n",
       "1780   0.097779  \n",
       "1781  -0.035388  \n",
       "\n",
       "[1782 rows x 7 columns]"
      ]
     },
     "execution_count": 122,
     "metadata": {},
     "output_type": "execute_result"
    }
   ],
   "source": [
    "merged"
   ]
  },
  {
   "cell_type": "code",
   "execution_count": 74,
   "metadata": {},
   "outputs": [
    {
     "data": {
      "image/png": "[encoded data removed]",
      "text/plain": [
       "<Figure size 432x288 with 1 Axes>"
      ]
     },
     "metadata": {
      "needs_background": "light"
     },
     "output_type": "display_data"
    }
   ],
   "source": [
    "plt.scatter(x=\"cases\",y=\"spend_all\",data=merged)\n",
    "plt.xscale('log')"
   ]
  },
  {
   "cell_type": "code",
   "execution_count": 64,
   "metadata": {},
   "outputs": [
    {
     "data": {
      "image/png": "[encoded data removed]",
      "text/plain": [
       "<Figure size 432x288 with 1 Axes>"
      ]
     },
     "metadata": {
      "needs_background": "light"
     },
     "output_type": "display_data"
    }
   ],
   "source": [
    "plt.scatter(x=\"cases\",y=\"spend_all\",data=merged)\n",
    "plt.xscale('log')"
   ]
  },
  {
   "cell_type": "code",
   "execution_count": 127,
   "metadata": {},
   "outputs": [],
   "source": [
    "se=pd.read_csv('../data/socialexplorer.csv')\n",
    "census=pd.read_csv('../data/census.csv')"
   ]
  },
  {
   "cell_type": "code",
   "execution_count": 129,
   "metadata": {},
   "outputs": [],
   "source": [
    "census=census.rename({'id':'fips'},axis=1)"
   ]
  },
  {
   "cell_type": "code",
   "execution_count": 130,
   "metadata": {},
   "outputs": [
    {
     "data": {
      "text/html": [
       "<div>\n",
       "<style scoped>\n",
       "    .dataframe tbody tr th:only-of-type {\n",
       "        vertical-align: middle;\n",
       "    }\n",
       "\n",
       "    .dataframe tbody tr th {\n",
       "        vertical-align: top;\n",
       "    }\n",
       "\n",
       "    .dataframe thead th {\n",
       "        text-align: right;\n",
       "    }\n",
       "</style>\n",
       "<table border=\"1\" class=\"dataframe\">\n",
       "  <thead>\n",
       "    <tr style=\"text-align: right;\">\n",
       "      <th></th>\n",
       "      <th>Unnamed: 0</th>\n",
       "      <th>fips</th>\n",
       "      <th>median_age</th>\n",
       "      <th>pop</th>\n",
       "      <th>african_american</th>\n",
       "      <th>median_income</th>\n",
       "      <th>area</th>\n",
       "      <th>pop_density</th>\n",
       "    </tr>\n",
       "  </thead>\n",
       "  <tbody>\n",
       "    <tr>\n",
       "      <th>0</th>\n",
       "      <td>0</td>\n",
       "      <td>1001</td>\n",
       "      <td>38.2</td>\n",
       "      <td>55380</td>\n",
       "      <td>10538</td>\n",
       "      <td>29725.0</td>\n",
       "      <td>594.44</td>\n",
       "      <td>93.163313</td>\n",
       "    </tr>\n",
       "    <tr>\n",
       "      <th>1</th>\n",
       "      <td>1</td>\n",
       "      <td>1003</td>\n",
       "      <td>43.0</td>\n",
       "      <td>212830</td>\n",
       "      <td>19718</td>\n",
       "      <td>29802.0</td>\n",
       "      <td>1589.78</td>\n",
       "      <td>133.873869</td>\n",
       "    </tr>\n",
       "    <tr>\n",
       "      <th>2</th>\n",
       "      <td>2</td>\n",
       "      <td>1005</td>\n",
       "      <td>40.4</td>\n",
       "      <td>25361</td>\n",
       "      <td>12066</td>\n",
       "      <td>17963.0</td>\n",
       "      <td>884.88</td>\n",
       "      <td>28.660383</td>\n",
       "    </tr>\n",
       "    <tr>\n",
       "      <th>3</th>\n",
       "      <td>3</td>\n",
       "      <td>1007</td>\n",
       "      <td>40.9</td>\n",
       "      <td>22493</td>\n",
       "      <td>5014</td>\n",
       "      <td>21958.0</td>\n",
       "      <td>622.58</td>\n",
       "      <td>36.128690</td>\n",
       "    </tr>\n",
       "    <tr>\n",
       "      <th>4</th>\n",
       "      <td>4</td>\n",
       "      <td>1009</td>\n",
       "      <td>40.7</td>\n",
       "      <td>57681</td>\n",
       "      <td>928</td>\n",
       "      <td>26976.0</td>\n",
       "      <td>644.78</td>\n",
       "      <td>89.458420</td>\n",
       "    </tr>\n",
       "    <tr>\n",
       "      <th>...</th>\n",
       "      <td>...</td>\n",
       "      <td>...</td>\n",
       "      <td>...</td>\n",
       "      <td>...</td>\n",
       "      <td>...</td>\n",
       "      <td>...</td>\n",
       "      <td>...</td>\n",
       "      <td>...</td>\n",
       "    </tr>\n",
       "    <tr>\n",
       "      <th>3135</th>\n",
       "      <td>3135</td>\n",
       "      <td>56037</td>\n",
       "      <td>35.3</td>\n",
       "      <td>43521</td>\n",
       "      <td>502</td>\n",
       "      <td>36512.0</td>\n",
       "      <td>10426.65</td>\n",
       "      <td>4.174016</td>\n",
       "    </tr>\n",
       "    <tr>\n",
       "      <th>3136</th>\n",
       "      <td>3136</td>\n",
       "      <td>56039</td>\n",
       "      <td>39.3</td>\n",
       "      <td>23280</td>\n",
       "      <td>290</td>\n",
       "      <td>40914.0</td>\n",
       "      <td>3995.38</td>\n",
       "      <td>5.826730</td>\n",
       "    </tr>\n",
       "    <tr>\n",
       "      <th>3137</th>\n",
       "      <td>3137</td>\n",
       "      <td>56041</td>\n",
       "      <td>35.8</td>\n",
       "      <td>20479</td>\n",
       "      <td>23</td>\n",
       "      <td>29557.0</td>\n",
       "      <td>2081.26</td>\n",
       "      <td>9.839712</td>\n",
       "    </tr>\n",
       "    <tr>\n",
       "      <th>3138</th>\n",
       "      <td>3138</td>\n",
       "      <td>56043</td>\n",
       "      <td>42.9</td>\n",
       "      <td>8027</td>\n",
       "      <td>3</td>\n",
       "      <td>29327.0</td>\n",
       "      <td>2238.55</td>\n",
       "      <td>3.585803</td>\n",
       "    </tr>\n",
       "    <tr>\n",
       "      <th>3139</th>\n",
       "      <td>3139</td>\n",
       "      <td>56045</td>\n",
       "      <td>43.1</td>\n",
       "      <td>7049</td>\n",
       "      <td>16</td>\n",
       "      <td>27367.0</td>\n",
       "      <td>2398.09</td>\n",
       "      <td>2.939423</td>\n",
       "    </tr>\n",
       "  </tbody>\n",
       "</table>\n",
       "<p>3140 rows × 8 columns</p>\n",
       "</div>"
      ],
      "text/plain": [
       "      Unnamed: 0   fips  median_age     pop  african_american  median_income  \\\n",
       "0              0   1001        38.2   55380             10538        29725.0   \n",
       "1              1   1003        43.0  212830             19718        29802.0   \n",
       "2              2   1005        40.4   25361             12066        17963.0   \n",
       "3              3   1007        40.9   22493              5014        21958.0   \n",
       "4              4   1009        40.7   57681               928        26976.0   \n",
       "...          ...    ...         ...     ...               ...            ...   \n",
       "3135        3135  56037        35.3   43521               502        36512.0   \n",
       "3136        3136  56039        39.3   23280               290        40914.0   \n",
       "3137        3137  56041        35.8   20479                23        29557.0   \n",
       "3138        3138  56043        42.9    8027                 3        29327.0   \n",
       "3139        3139  56045        43.1    7049                16        27367.0   \n",
       "\n",
       "          area  pop_density  \n",
       "0       594.44    93.163313  \n",
       "1      1589.78   133.873869  \n",
       "2       884.88    28.660383  \n",
       "3       622.58    36.128690  \n",
       "4       644.78    89.458420  \n",
       "...        ...          ...  \n",
       "3135  10426.65     4.174016  \n",
       "3136   3995.38     5.826730  \n",
       "3137   2081.26     9.839712  \n",
       "3138   2238.55     3.585803  \n",
       "3139   2398.09     2.939423  \n",
       "\n",
       "[3140 rows x 8 columns]"
      ]
     },
     "execution_count": 130,
     "metadata": {},
     "output_type": "execute_result"
    }
   ],
   "source": [
    "census"
   ]
  },
  {
   "cell_type": "code",
   "execution_count": 131,
   "metadata": {},
   "outputs": [],
   "source": [
    "merged=pd.merge(merged,se[[\"median_age\",\"pop\",\"fips\",'pop_density',\"afr\",\"hisp\",\"over65\"]],on='fips')"
   ]
  },
  {
   "cell_type": "code",
   "execution_count": 134,
   "metadata": {},
   "outputs": [],
   "source": [
    "merged=pd.merge(census[['fips','median_income']],merged,on=\"fips\")"
   ]
  },
  {
   "cell_type": "code",
   "execution_count": 136,
   "metadata": {},
   "outputs": [],
   "source": [
    "merged['casesper100k']=merged['cases']/100000"
   ]
  },
  {
   "cell_type": "code",
   "execution_count": 137,
   "metadata": {},
   "outputs": [],
   "source": [
    "merged.to_csv(\"../data.csv\")"
   ]
  },
  {
   "cell_type": "code",
   "execution_count": 138,
   "metadata": {},
   "outputs": [],
   "source": [
    "merged=pd.read_csv('../data.csv')"
   ]
  },
  {
   "cell_type": "code",
   "execution_count": 139,
   "metadata": {},
   "outputs": [
    {
     "data": {
      "text/plain": [
       "Index(['Unnamed: 0', 'fips', 'median_income', 'cases', 'county', 'state',\n",
       "       'emp_combined', 'merchants_all', 'spend_all', 'median_age', 'pop',\n",
       "       'pop_density', 'afr', 'hisp', 'over65', 'casesper100k'],\n",
       "      dtype='object')"
      ]
     },
     "execution_count": 139,
     "metadata": {},
     "output_type": "execute_result"
    }
   ],
   "source": [
    "merged.columns"
   ]
  },
  {
   "cell_type": "code",
   "execution_count": 141,
   "metadata": {},
   "outputs": [
    {
     "data": {
      "text/plain": [
       "5.25651"
      ]
     },
     "execution_count": 141,
     "metadata": {},
     "output_type": "execute_result"
    }
   ],
   "source": [
    "merged['casesper100k'].max()"
   ]
  },
  {
   "cell_type": "code",
   "execution_count": 142,
   "metadata": {},
   "outputs": [
    {
     "data": {
      "text/plain": [
       "28390.0"
      ]
     },
     "execution_count": 142,
     "metadata": {},
     "output_type": "execute_result"
    }
   ],
   "source": [
    "merged['median_income'].median()"
   ]
  },
  {
   "cell_type": "code",
   "execution_count": 143,
   "metadata": {},
   "outputs": [],
   "source": [
    "merged['highincome']=merged['median_income']>30000"
   ]
  },
  {
   "cell_type": "code",
   "execution_count": 147,
   "metadata": {},
   "outputs": [
    {
     "data": {
      "text/plain": [
       "<matplotlib.legend.Legend at 0x7f6b4c25ebd0>"
      ]
     },
     "execution_count": 147,
     "metadata": {},
     "output_type": "execute_result"
    },
    {
     "data": {
      "image/png": "[encoded data removed]",
      "text/plain": [
       "<Figure size 432x288 with 1 Axes>"
      ]
     },
     "metadata": {
      "needs_background": "light"
     },
     "output_type": "display_data"
    }
   ],
   "source": [
    "plt.scatter(x=\"casesper100k\",y=\"spend_all\",data=merged[merged['highincome']],label=\"high income\")\n",
    "plt.scatter(x=\"casesper100k\",y=\"spend_all\",data=merged[~merged['highincome']])\n",
    "\n",
    "plt.legend()"
   ]
  },
  {
   "cell_type": "code",
   "execution_count": 14,
   "metadata": {},
   "outputs": [
    {
     "data": {
      "text/plain": [
       "525651"
      ]
     },
     "execution_count": 14,
     "metadata": {},
     "output_type": "execute_result"
    }
   ],
   "source": [
    "merged[]['cases'].max()"
   ]
  },
  {
   "cell_type": "code",
   "execution_count": null,
   "metadata": {},
   "outputs": [],
   "source": []
  }
 ],
 "metadata": {
  "kernelspec": {
   "display_name": "Python 3",
   "language": "python",
   "name": "python3"
  },
  "language_info": {
   "codemirror_mode": {
    "name": "ipython",
    "version": 3
   },
   "file_extension": ".py",
   "mimetype": "text/x-python",
   "name": "python",
   "nbconvert_exporter": "python",
   "pygments_lexer": "ipython3",
   "version": "3.7.6"
  }
 },
 "nbformat": 4,
 "nbformat_minor": 4
}
