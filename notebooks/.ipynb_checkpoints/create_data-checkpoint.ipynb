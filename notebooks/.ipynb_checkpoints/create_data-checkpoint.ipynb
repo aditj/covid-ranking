{
 "cells": [
  {
   "cell_type": "markdown",
   "metadata": {},
   "source": [
    "# Libraries"
   ]
  },
  {
   "cell_type": "code",
   "execution_count": 164,
   "metadata": {},
   "outputs": [],
   "source": [
    "import pandas as pd\n",
    "import matplotlib.pyplot as plt\n",
    "from functools import reduce"
   ]
  },
  {
   "cell_type": "code",
   "execution_count": 165,
   "metadata": {},
   "outputs": [],
   "source": [
    "pd.set_option('display.expand_frame_repr', False)\n",
    "pd.set_option('display.precision', 2)"
   ]
  },
  {
   "cell_type": "code",
   "execution_count": null,
   "metadata": {},
   "outputs": [],
   "source": []
  },
  {
   "cell_type": "code",
   "execution_count": 181,
   "metadata": {},
   "outputs": [],
   "source": [
    "age=pd.read_csv(\"../data/acs/ACSDT5Y2019.B01002_2020-12-15T021141/data.csv\",skiprows=1).iloc[:,[0,2]]\n",
    "age['id']=age[\"id\"].apply(lambda x:x[-5:])\n",
    "age=age.rename({\"Estimate!!Median age --!!Total:\":\"median_age\"},axis=1)"
   ]
  },
  {
   "cell_type": "code",
   "execution_count": 182,
   "metadata": {},
   "outputs": [],
   "source": [
    "pop=pd.read_csv(\"../data/acs/ACSDT5Y2019.B01003_2020-12-15T021819/data.csv\",skiprows=1).iloc[:,[0,2]]\n",
    "pop['id']=pop[\"id\"].apply(lambda x:x[-5:])\n",
    "pop=pop.rename({\"Estimate!!Total\":\"pop\",\"Geographic Area Name\":\"County Name\"},axis=1)"
   ]
  },
  {
   "cell_type": "code",
   "execution_count": 183,
   "metadata": {},
   "outputs": [],
   "source": [
    "race=pd.read_csv(\"../data/acs/ACSDT5Y2019.B02001_2020-12-15T045802/data.csv\",skiprows=1).iloc[:,[0,6]]\n",
    "race['id']=race[\"id\"].apply(lambda x:x[-5:])\n",
    "race=race.rename({\"Estimate!!Total:!!Black or African American alone\":\"african_american\",},axis=1)"
   ]
  },
  {
   "cell_type": "code",
   "execution_count": 185,
   "metadata": {},
   "outputs": [],
   "source": [
    "inc=pd.read_csv(\"../data/acs/ACSDT5Y2019.B07011_2020-12-15T060656/data.csv\",skiprows=1).iloc[:,[0,2]]\n",
    "inc['id']=inc[\"id\"].apply(lambda x:x[-5:])\n",
    "inc=inc.rename({\"Estimate!!Median income in the past 12 months --!!Total:\":\"median_income\",},axis=1)"
   ]
  },
  {
   "cell_type": "code",
   "execution_count": 186,
   "metadata": {},
   "outputs": [],
   "source": [
    "lnd=pd.read_excel('../data/acs/LND01.xls')\n",
    "lnd=lnd[['STCOU','LND110210D']]\n",
    "lnd=lnd.rename({'STCOU':'id','LND110210D':'area'},axis=1)\n",
    "lnd['id']=lnd['id'].apply(lambda x: str(x).zfill(5))"
   ]
  },
  {
   "cell_type": "code",
   "execution_count": 187,
   "metadata": {},
   "outputs": [],
   "source": [
    "dataframes=[age,pop,race,inc,lnd]\n",
    "df_merged = reduce(lambda  left,right: pd.merge(left,right,on=['id']), dataframes)"
   ]
  },
  {
   "cell_type": "code",
   "execution_count": 188,
   "metadata": {
    "scrolled": true
   },
   "outputs": [],
   "source": [
    "df_merged['pop_density']=df_merged['pop']/df_merged['area']"
   ]
  },
  {
   "cell_type": "code",
   "execution_count": 190,
   "metadata": {},
   "outputs": [],
   "source": [
    "df_merged.to_csv(\"../data/census.csv\")"
   ]
  },
  {
   "cell_type": "markdown",
   "metadata": {},
   "source": [
    "# Create Panel "
   ]
  },
  {
   "cell_type": "code",
   "execution_count": 191,
   "metadata": {},
   "outputs": [],
   "source": [
    "cov=pd.read_csv(\"../data/covid.csv\")"
   ]
  },
  {
   "cell_type": "code",
   "execution_count": 193,
   "metadata": {},
   "outputs": [],
   "source": [
    "cases=cov[cov['date']=='2020-12-13'][['cases','fips','county','state']]"
   ]
  },
  {
   "cell_type": "code",
   "execution_count": 194,
   "metadata": {},
   "outputs": [],
   "source": [
    "emp=pd.read_csv(\"../data/EconomicTracker-main/Affinity - County - Daily.csv\")"
   ]
  },
  {
   "cell_type": "code",
   "execution_count": 195,
   "metadata": {},
   "outputs": [],
   "source": [
    "spend=emp[(emp['freq']=='d')&(emp['month']==10)&(emp['day']==31)&(emp['spend_all'].notna())][['spend_all','countyfips']]"
   ]
  },
  {
   "cell_type": "code",
   "execution_count": 196,
   "metadata": {},
   "outputs": [],
   "source": [
    "spend=spend.rename({\"countyfips\":\"fips\"},axis=1)"
   ]
  },
  {
   "cell_type": "code",
   "execution_count": 197,
   "metadata": {},
   "outputs": [],
   "source": [
    "merged=pd.merge(cases,spend,on=\"fips\")"
   ]
  },
  {
   "cell_type": "code",
   "execution_count": 198,
   "metadata": {},
   "outputs": [
    {
     "data": {
      "image/png": "[encoded data removed]",
      "text/plain": [
       "<Figure size 432x288 with 1 Axes>"
      ]
     },
     "metadata": {
      "needs_background": "light"
     },
     "output_type": "display_data"
    }
   ],
   "source": [
    "plt.scatter(x=\"cases\",y=\"spend_all\",data=merged)\n",
    "plt.xscale('log')"
   ]
  },
  {
   "cell_type": "code",
   "execution_count": 199,
   "metadata": {},
   "outputs": [],
   "source": [
    "census=pd.read_csv('../data/census.csv')"
   ]
  },
  {
   "cell_type": "code",
   "execution_count": 200,
   "metadata": {},
   "outputs": [],
   "source": [
    "census=census.rename({'id':'fips'},axis=1)"
   ]
  },
  {
   "cell_type": "code",
   "execution_count": 202,
   "metadata": {},
   "outputs": [
    {
     "data": {
      "text/html": [
       "<div>\n",
       "<style scoped>\n",
       "    .dataframe tbody tr th:only-of-type {\n",
       "        vertical-align: middle;\n",
       "    }\n",
       "\n",
       "    .dataframe tbody tr th {\n",
       "        vertical-align: top;\n",
       "    }\n",
       "\n",
       "    .dataframe thead th {\n",
       "        text-align: right;\n",
       "    }\n",
       "</style>\n",
       "<table border=\"1\" class=\"dataframe\">\n",
       "  <thead>\n",
       "    <tr style=\"text-align: right;\">\n",
       "      <th></th>\n",
       "      <th>Unnamed: 0</th>\n",
       "      <th>fips</th>\n",
       "      <th>median_age</th>\n",
       "      <th>pop</th>\n",
       "      <th>african_american</th>\n",
       "      <th>median_income</th>\n",
       "      <th>area</th>\n",
       "      <th>pop_density</th>\n",
       "    </tr>\n",
       "  </thead>\n",
       "  <tbody>\n",
       "    <tr>\n",
       "      <th>0</th>\n",
       "      <td>0</td>\n",
       "      <td>1001</td>\n",
       "      <td>38.2</td>\n",
       "      <td>55380</td>\n",
       "      <td>10538</td>\n",
       "      <td>29725.0</td>\n",
       "      <td>594.44</td>\n",
       "      <td>93.16</td>\n",
       "    </tr>\n",
       "    <tr>\n",
       "      <th>1</th>\n",
       "      <td>1</td>\n",
       "      <td>1003</td>\n",
       "      <td>43.0</td>\n",
       "      <td>212830</td>\n",
       "      <td>19718</td>\n",
       "      <td>29802.0</td>\n",
       "      <td>1589.78</td>\n",
       "      <td>133.87</td>\n",
       "    </tr>\n",
       "    <tr>\n",
       "      <th>2</th>\n",
       "      <td>2</td>\n",
       "      <td>1005</td>\n",
       "      <td>40.4</td>\n",
       "      <td>25361</td>\n",
       "      <td>12066</td>\n",
       "      <td>17963.0</td>\n",
       "      <td>884.88</td>\n",
       "      <td>28.66</td>\n",
       "    </tr>\n",
       "    <tr>\n",
       "      <th>3</th>\n",
       "      <td>3</td>\n",
       "      <td>1007</td>\n",
       "      <td>40.9</td>\n",
       "      <td>22493</td>\n",
       "      <td>5014</td>\n",
       "      <td>21958.0</td>\n",
       "      <td>622.58</td>\n",
       "      <td>36.13</td>\n",
       "    </tr>\n",
       "    <tr>\n",
       "      <th>4</th>\n",
       "      <td>4</td>\n",
       "      <td>1009</td>\n",
       "      <td>40.7</td>\n",
       "      <td>57681</td>\n",
       "      <td>928</td>\n",
       "      <td>26976.0</td>\n",
       "      <td>644.78</td>\n",
       "      <td>89.46</td>\n",
       "    </tr>\n",
       "    <tr>\n",
       "      <th>...</th>\n",
       "      <td>...</td>\n",
       "      <td>...</td>\n",
       "      <td>...</td>\n",
       "      <td>...</td>\n",
       "      <td>...</td>\n",
       "      <td>...</td>\n",
       "      <td>...</td>\n",
       "      <td>...</td>\n",
       "    </tr>\n",
       "    <tr>\n",
       "      <th>3135</th>\n",
       "      <td>3135</td>\n",
       "      <td>56037</td>\n",
       "      <td>35.3</td>\n",
       "      <td>43521</td>\n",
       "      <td>502</td>\n",
       "      <td>36512.0</td>\n",
       "      <td>10426.65</td>\n",
       "      <td>4.17</td>\n",
       "    </tr>\n",
       "    <tr>\n",
       "      <th>3136</th>\n",
       "      <td>3136</td>\n",
       "      <td>56039</td>\n",
       "      <td>39.3</td>\n",
       "      <td>23280</td>\n",
       "      <td>290</td>\n",
       "      <td>40914.0</td>\n",
       "      <td>3995.38</td>\n",
       "      <td>5.83</td>\n",
       "    </tr>\n",
       "    <tr>\n",
       "      <th>3137</th>\n",
       "      <td>3137</td>\n",
       "      <td>56041</td>\n",
       "      <td>35.8</td>\n",
       "      <td>20479</td>\n",
       "      <td>23</td>\n",
       "      <td>29557.0</td>\n",
       "      <td>2081.26</td>\n",
       "      <td>9.84</td>\n",
       "    </tr>\n",
       "    <tr>\n",
       "      <th>3138</th>\n",
       "      <td>3138</td>\n",
       "      <td>56043</td>\n",
       "      <td>42.9</td>\n",
       "      <td>8027</td>\n",
       "      <td>3</td>\n",
       "      <td>29327.0</td>\n",
       "      <td>2238.55</td>\n",
       "      <td>3.59</td>\n",
       "    </tr>\n",
       "    <tr>\n",
       "      <th>3139</th>\n",
       "      <td>3139</td>\n",
       "      <td>56045</td>\n",
       "      <td>43.1</td>\n",
       "      <td>7049</td>\n",
       "      <td>16</td>\n",
       "      <td>27367.0</td>\n",
       "      <td>2398.09</td>\n",
       "      <td>2.94</td>\n",
       "    </tr>\n",
       "  </tbody>\n",
       "</table>\n",
       "<p>3140 rows × 8 columns</p>\n",
       "</div>"
      ],
      "text/plain": [
       "      Unnamed: 0   fips  median_age     pop  african_american  median_income      area  pop_density\n",
       "0              0   1001        38.2   55380             10538        29725.0    594.44        93.16\n",
       "1              1   1003        43.0  212830             19718        29802.0   1589.78       133.87\n",
       "2              2   1005        40.4   25361             12066        17963.0    884.88        28.66\n",
       "3              3   1007        40.9   22493              5014        21958.0    622.58        36.13\n",
       "4              4   1009        40.7   57681               928        26976.0    644.78        89.46\n",
       "...          ...    ...         ...     ...               ...            ...       ...          ...\n",
       "3135        3135  56037        35.3   43521               502        36512.0  10426.65         4.17\n",
       "3136        3136  56039        39.3   23280               290        40914.0   3995.38         5.83\n",
       "3137        3137  56041        35.8   20479                23        29557.0   2081.26         9.84\n",
       "3138        3138  56043        42.9    8027                 3        29327.0   2238.55         3.59\n",
       "3139        3139  56045        43.1    7049                16        27367.0   2398.09         2.94\n",
       "\n",
       "[3140 rows x 8 columns]"
      ]
     },
     "execution_count": 202,
     "metadata": {},
     "output_type": "execute_result"
    }
   ],
   "source": [
    "census"
   ]
  },
  {
   "cell_type": "code",
   "execution_count": 203,
   "metadata": {},
   "outputs": [],
   "source": [
    "merged=pd.merge(merged,census[[\"median_age\",\"pop\",\"median_income\",\"fips\",'pop_density']],on='fips')"
   ]
  },
  {
   "cell_type": "code",
   "execution_count": 205,
   "metadata": {},
   "outputs": [],
   "source": [
    "merged['casespercapita']=merged['cases']/merged['pop']"
   ]
  },
  {
   "cell_type": "code",
   "execution_count": 207,
   "metadata": {},
   "outputs": [],
   "source": [
    "merged.to_csv(\"../data.csv\")"
   ]
  },
  {
   "cell_type": "code",
   "execution_count": null,
   "metadata": {},
   "outputs": [],
   "source": []
  }
 ],
 "metadata": {
  "kernelspec": {
   "display_name": "Python 3",
   "language": "python",
   "name": "python3"
  },
  "language_info": {
   "codemirror_mode": {
    "name": "ipython",
    "version": 3
   },
   "file_extension": ".py",
   "mimetype": "text/x-python",
   "name": "python",
   "nbconvert_exporter": "python",
   "pygments_lexer": "ipython3",
   "version": "3.7.6"
  }
 },
 "nbformat": 4,
 "nbformat_minor": 4
}
