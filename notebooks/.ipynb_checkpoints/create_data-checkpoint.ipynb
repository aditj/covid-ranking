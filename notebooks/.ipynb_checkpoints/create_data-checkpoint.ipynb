{
 "cells": [
  {
   "cell_type": "markdown",
   "metadata": {},
   "source": [
    "# Libraries"
   ]
  },
  {
   "cell_type": "code",
   "execution_count": 1,
   "metadata": {},
   "outputs": [],
   "source": [
    "import pandas as pd\n",
    "import matplotlib.pyplot as plt\n",
    "from functools import reduce"
   ]
  },
  {
   "cell_type": "code",
   "execution_count": 4,
   "metadata": {},
   "outputs": [],
   "source": [
    "pd.set_option('display.expand_frame_repr', False)\n",
    "pd.set_option('display.precision', 2)"
   ]
  },
  {
   "cell_type": "markdown",
   "metadata": {},
   "source": [
    "# Create Census Data"
   ]
  },
  {
   "cell_type": "code",
   "execution_count": 181,
   "metadata": {},
   "outputs": [],
   "source": [
    "age=pd.read_csv(\"../data/acs/ACSDT5Y2019.B01002_2020-12-15T021141/data.csv\",skiprows=1).iloc[:,[0,2]]\n",
    "age['id']=age[\"id\"].apply(lambda x:x[-5:])\n",
    "age=age.rename({\"Estimate!!Median age --!!Total:\":\"median_age\"},axis=1)"
   ]
  },
  {
   "cell_type": "code",
   "execution_count": 182,
   "metadata": {},
   "outputs": [],
   "source": [
    "pop=pd.read_csv(\"../data/acs/ACSDT5Y2019.B01003_2020-12-15T021819/data.csv\",skiprows=1).iloc[:,[0,2]]\n",
    "pop['id']=pop[\"id\"].apply(lambda x:x[-5:])\n",
    "pop=pop.rename({\"Estimate!!Total\":\"pop\",\"Geographic Area Name\":\"County Name\"},axis=1)"
   ]
  },
  {
   "cell_type": "code",
   "execution_count": 183,
   "metadata": {},
   "outputs": [],
   "source": [
    "race=pd.read_csv(\"../data/acs/ACSDT5Y2019.B02001_2020-12-15T045802/data.csv\",skiprows=1).iloc[:,[0,6]]\n",
    "race['id']=race[\"id\"].apply(lambda x:x[-5:])\n",
    "race=race.rename({\"Estimate!!Total:!!Black or African American alone\":\"african_american\",},axis=1)"
   ]
  },
  {
   "cell_type": "code",
   "execution_count": 185,
   "metadata": {},
   "outputs": [],
   "source": [
    "inc=pd.read_csv(\"../data/acs/ACSDT5Y2019.B07011_2020-12-15T060656/data.csv\",skiprows=1).iloc[:,[0,2]]\n",
    "inc['id']=inc[\"id\"].apply(lambda x:x[-5:])\n",
    "inc=inc.rename({\"Estimate!!Median income in the past 12 months --!!Total:\":\"median_income\",},axis=1)"
   ]
  },
  {
   "cell_type": "code",
   "execution_count": 186,
   "metadata": {},
   "outputs": [],
   "source": [
    "lnd=pd.read_excel('../data/acs/LND01.xls')\n",
    "lnd=lnd[['STCOU','LND110210D']]\n",
    "lnd=lnd.rename({'STCOU':'id','LND110210D':'area'},axis=1)\n",
    "lnd['id']=lnd['id'].apply(lambda x: str(x).zfill(5))"
   ]
  },
  {
   "cell_type": "code",
   "execution_count": 187,
   "metadata": {},
   "outputs": [],
   "source": [
    "dataframes=[age,pop,race,inc,lnd]\n",
    "df_merged = reduce(lambda  left,right: pd.merge(left,right,on=['id']), dataframes)"
   ]
  },
  {
   "cell_type": "code",
   "execution_count": 188,
   "metadata": {
    "scrolled": true
   },
   "outputs": [],
   "source": [
    "df_merged['pop_density']=df_merged['pop']/df_merged['area']"
   ]
  },
  {
   "cell_type": "code",
   "execution_count": 190,
   "metadata": {},
   "outputs": [],
   "source": [
    "df_merged.to_csv(\"../data/census.csv\")"
   ]
  },
  {
   "cell_type": "code",
   "execution_count": 55,
   "metadata": {},
   "outputs": [],
   "source": [
    "se=pd.read_csv('../data/socialexplorer/socialexplorer.csv',encoding = \"ISO-8859-1\")"
   ]
  },
  {
   "cell_type": "code",
   "execution_count": 56,
   "metadata": {},
   "outputs": [],
   "source": [
    "tables=['T001_001','T002_002','T008_010','T008_011','T008_012','T008_013','T044_001','T054_003','T055_010']\n",
    "names=[]\n",
    "tables=['SE_'+ t for t in tables]\n",
    "se=se[['Geo_FIPS']+tables].copy()\n",
    "se['over65']=se.iloc[:,3:7].sum(axis=1)\n",
    "se=se.drop(se.columns[3:7],axis=1)\n",
    "se=se.rename(columns=dict(zip(se.columns, ['fips','pop','pop_density','median_age','afr','hisp','over65'])))"
   ]
  },
  {
   "cell_type": "code",
   "execution_count": 57,
   "metadata": {},
   "outputs": [],
   "source": [
    "se[['afr','hisp','over65']]=se[['afr','hisp','over65']].div(se['pop'],axis=0)*100"
   ]
  },
  {
   "cell_type": "code",
   "execution_count": 58,
   "metadata": {},
   "outputs": [
    {
     "data": {
      "text/html": [
       "<div>\n",
       "<style scoped>\n",
       "    .dataframe tbody tr th:only-of-type {\n",
       "        vertical-align: middle;\n",
       "    }\n",
       "\n",
       "    .dataframe tbody tr th {\n",
       "        vertical-align: top;\n",
       "    }\n",
       "\n",
       "    .dataframe thead th {\n",
       "        text-align: right;\n",
       "    }\n",
       "</style>\n",
       "<table border=\"1\" class=\"dataframe\">\n",
       "  <thead>\n",
       "    <tr style=\"text-align: right;\">\n",
       "      <th></th>\n",
       "      <th>fips</th>\n",
       "      <th>pop</th>\n",
       "      <th>pop_density</th>\n",
       "      <th>median_age</th>\n",
       "      <th>afr</th>\n",
       "      <th>hisp</th>\n",
       "      <th>over65</th>\n",
       "    </tr>\n",
       "  </thead>\n",
       "  <tbody>\n",
       "    <tr>\n",
       "      <th>0</th>\n",
       "      <td>1001</td>\n",
       "      <td>54571</td>\n",
       "      <td>91.80297</td>\n",
       "      <td>37.0</td>\n",
       "      <td>17.670558</td>\n",
       "      <td>2.400542</td>\n",
       "      <td>22.733686</td>\n",
       "    </tr>\n",
       "    <tr>\n",
       "      <th>1</th>\n",
       "      <td>1003</td>\n",
       "      <td>182265</td>\n",
       "      <td>114.64760</td>\n",
       "      <td>41.1</td>\n",
       "      <td>9.384687</td>\n",
       "      <td>4.384824</td>\n",
       "      <td>30.232354</td>\n",
       "    </tr>\n",
       "    <tr>\n",
       "      <th>2</th>\n",
       "      <td>1005</td>\n",
       "      <td>27457</td>\n",
       "      <td>31.02920</td>\n",
       "      <td>39.0</td>\n",
       "      <td>46.891503</td>\n",
       "      <td>5.051535</td>\n",
       "      <td>27.406490</td>\n",
       "    </tr>\n",
       "    <tr>\n",
       "      <th>3</th>\n",
       "      <td>1007</td>\n",
       "      <td>22915</td>\n",
       "      <td>36.80638</td>\n",
       "      <td>37.8</td>\n",
       "      <td>22.024875</td>\n",
       "      <td>1.771765</td>\n",
       "      <td>24.617063</td>\n",
       "    </tr>\n",
       "    <tr>\n",
       "      <th>4</th>\n",
       "      <td>1009</td>\n",
       "      <td>57322</td>\n",
       "      <td>88.90221</td>\n",
       "      <td>39.0</td>\n",
       "      <td>1.327588</td>\n",
       "      <td>8.070200</td>\n",
       "      <td>27.415303</td>\n",
       "    </tr>\n",
       "    <tr>\n",
       "      <th>...</th>\n",
       "      <td>...</td>\n",
       "      <td>...</td>\n",
       "      <td>...</td>\n",
       "      <td>...</td>\n",
       "      <td>...</td>\n",
       "      <td>...</td>\n",
       "      <td>...</td>\n",
       "    </tr>\n",
       "    <tr>\n",
       "      <th>3216</th>\n",
       "      <td>72145</td>\n",
       "      <td>59662</td>\n",
       "      <td>1301.06900</td>\n",
       "      <td>36.5</td>\n",
       "      <td>11.469612</td>\n",
       "      <td>99.264188</td>\n",
       "      <td>25.589152</td>\n",
       "    </tr>\n",
       "    <tr>\n",
       "      <th>3217</th>\n",
       "      <td>72147</td>\n",
       "      <td>9301</td>\n",
       "      <td>183.20610</td>\n",
       "      <td>40.0</td>\n",
       "      <td>28.136759</td>\n",
       "      <td>94.344694</td>\n",
       "      <td>30.297817</td>\n",
       "    </tr>\n",
       "    <tr>\n",
       "      <th>3218</th>\n",
       "      <td>72149</td>\n",
       "      <td>26073</td>\n",
       "      <td>731.63400</td>\n",
       "      <td>33.4</td>\n",
       "      <td>8.483872</td>\n",
       "      <td>99.654815</td>\n",
       "      <td>22.191539</td>\n",
       "    </tr>\n",
       "    <tr>\n",
       "      <th>3219</th>\n",
       "      <td>72151</td>\n",
       "      <td>37941</td>\n",
       "      <td>687.15520</td>\n",
       "      <td>36.7</td>\n",
       "      <td>14.058670</td>\n",
       "      <td>99.327904</td>\n",
       "      <td>25.521204</td>\n",
       "    </tr>\n",
       "    <tr>\n",
       "      <th>3220</th>\n",
       "      <td>72153</td>\n",
       "      <td>42043</td>\n",
       "      <td>616.54160</td>\n",
       "      <td>38.1</td>\n",
       "      <td>5.903480</td>\n",
       "      <td>99.495754</td>\n",
       "      <td>27.371976</td>\n",
       "    </tr>\n",
       "  </tbody>\n",
       "</table>\n",
       "<p>3221 rows × 7 columns</p>\n",
       "</div>"
      ],
      "text/plain": [
       "       fips     pop  pop_density  median_age        afr       hisp     over65\n",
       "0      1001   54571     91.80297        37.0  17.670558   2.400542  22.733686\n",
       "1      1003  182265    114.64760        41.1   9.384687   4.384824  30.232354\n",
       "2      1005   27457     31.02920        39.0  46.891503   5.051535  27.406490\n",
       "3      1007   22915     36.80638        37.8  22.024875   1.771765  24.617063\n",
       "4      1009   57322     88.90221        39.0   1.327588   8.070200  27.415303\n",
       "...     ...     ...          ...         ...        ...        ...        ...\n",
       "3216  72145   59662   1301.06900        36.5  11.469612  99.264188  25.589152\n",
       "3217  72147    9301    183.20610        40.0  28.136759  94.344694  30.297817\n",
       "3218  72149   26073    731.63400        33.4   8.483872  99.654815  22.191539\n",
       "3219  72151   37941    687.15520        36.7  14.058670  99.327904  25.521204\n",
       "3220  72153   42043    616.54160        38.1   5.903480  99.495754  27.371976\n",
       "\n",
       "[3221 rows x 7 columns]"
      ]
     },
     "execution_count": 58,
     "metadata": {},
     "output_type": "execute_result"
    }
   ],
   "source": [
    "se"
   ]
  },
  {
   "cell_type": "code",
   "execution_count": 59,
   "metadata": {},
   "outputs": [],
   "source": [
    "se.to_csv(\"../data/socialexplorer.csv\")"
   ]
  },
  {
   "cell_type": "code",
   "execution_count": 45,
   "metadata": {},
   "outputs": [],
   "source": []
  },
  {
   "cell_type": "markdown",
   "metadata": {},
   "source": [
    "# Create Panel "
   ]
  },
  {
   "cell_type": "code",
   "execution_count": 19,
   "metadata": {},
   "outputs": [],
   "source": [
    "cov=pd.read_csv(\"../data/covid.csv\")"
   ]
  },
  {
   "cell_type": "code",
   "execution_count": 20,
   "metadata": {},
   "outputs": [],
   "source": [
    "cases=cov[cov['date']=='2020-12-13'][['cases','fips','county','state']]"
   ]
  },
  {
   "cell_type": "code",
   "execution_count": 56,
   "metadata": {},
   "outputs": [],
   "source": [
    "spend=pd.read_csv(\"../data/EconomicTracker-main/Affinity - County - Daily.csv\")\n"
   ]
  },
  {
   "cell_type": "code",
   "execution_count": 71,
   "metadata": {},
   "outputs": [],
   "source": [
    "#spend=spend[(spend['freq']=='d')&(spend['month']==10)&(spend['day']==31)&(spend['spend_all'].notna())][['spend_all','countyfips']]"
   ]
  },
  {
   "cell_type": "code",
   "execution_count": 58,
   "metadata": {},
   "outputs": [],
   "source": [
    "#Method 2\n",
    "spend=spend[(spend['freq']=='d')&(spend['spend_all'].notna())]#[['spend_all','countyfips']]"
   ]
  },
  {
   "cell_type": "code",
   "execution_count": 59,
   "metadata": {},
   "outputs": [],
   "source": [
    "spend=spend.groupby(['countyfips'])['spend_all'].mean().reset_index()\n",
    "spend=spend.rename({\"countyfips\":\"fips\"},axis=1)"
   ]
  },
  {
   "cell_type": "code",
   "execution_count": 90,
   "metadata": {},
   "outputs": [],
   "source": [
    "emp= pd.read_csv(\"../data/EconomicTracker-main/Employment Combined - County - Daily.csv\")"
   ]
  },
  {
   "cell_type": "code",
   "execution_count": 91,
   "metadata": {},
   "outputs": [],
   "source": [
    "emp['emp_combined']=emp['emp_combined'].apply(lambda x: None if x=='.' else float(x))"
   ]
  },
  {
   "cell_type": "code",
   "execution_count": 92,
   "metadata": {},
   "outputs": [],
   "source": [
    "emp=emp.dropna().reset_index(drop=True)"
   ]
  },
  {
   "cell_type": "code",
   "execution_count": 94,
   "metadata": {},
   "outputs": [
    {
     "data": {
      "text/html": [
       "<div>\n",
       "<style scoped>\n",
       "    .dataframe tbody tr th:only-of-type {\n",
       "        vertical-align: middle;\n",
       "    }\n",
       "\n",
       "    .dataframe tbody tr th {\n",
       "        vertical-align: top;\n",
       "    }\n",
       "\n",
       "    .dataframe thead th {\n",
       "        text-align: right;\n",
       "    }\n",
       "</style>\n",
       "<table border=\"1\" class=\"dataframe\">\n",
       "  <thead>\n",
       "    <tr style=\"text-align: right;\">\n",
       "      <th></th>\n",
       "      <th>countyfips</th>\n",
       "      <th>emp_combined</th>\n",
       "    </tr>\n",
       "  </thead>\n",
       "  <tbody>\n",
       "    <tr>\n",
       "      <th>0</th>\n",
       "      <td>1003</td>\n",
       "      <td>0.001396</td>\n",
       "    </tr>\n",
       "    <tr>\n",
       "      <th>1</th>\n",
       "      <td>1015</td>\n",
       "      <td>-0.043281</td>\n",
       "    </tr>\n",
       "    <tr>\n",
       "      <th>2</th>\n",
       "      <td>1053</td>\n",
       "      <td>0.016537</td>\n",
       "    </tr>\n",
       "    <tr>\n",
       "      <th>3</th>\n",
       "      <td>1073</td>\n",
       "      <td>-0.105607</td>\n",
       "    </tr>\n",
       "    <tr>\n",
       "      <th>4</th>\n",
       "      <td>1081</td>\n",
       "      <td>-0.111798</td>\n",
       "    </tr>\n",
       "    <tr>\n",
       "      <th>...</th>\n",
       "      <td>...</td>\n",
       "      <td>...</td>\n",
       "    </tr>\n",
       "    <tr>\n",
       "      <th>797</th>\n",
       "      <td>55131</td>\n",
       "      <td>-0.064983</td>\n",
       "    </tr>\n",
       "    <tr>\n",
       "      <th>798</th>\n",
       "      <td>55133</td>\n",
       "      <td>-0.026832</td>\n",
       "    </tr>\n",
       "    <tr>\n",
       "      <th>799</th>\n",
       "      <td>55139</td>\n",
       "      <td>-0.124160</td>\n",
       "    </tr>\n",
       "    <tr>\n",
       "      <th>800</th>\n",
       "      <td>56025</td>\n",
       "      <td>0.013729</td>\n",
       "    </tr>\n",
       "    <tr>\n",
       "      <th>801</th>\n",
       "      <td>56039</td>\n",
       "      <td>-0.056420</td>\n",
       "    </tr>\n",
       "  </tbody>\n",
       "</table>\n",
       "<p>802 rows × 2 columns</p>\n",
       "</div>"
      ],
      "text/plain": [
       "     countyfips  emp_combined\n",
       "0          1003      0.001396\n",
       "1          1015     -0.043281\n",
       "2          1053      0.016537\n",
       "3          1073     -0.105607\n",
       "4          1081     -0.111798\n",
       "..          ...           ...\n",
       "797       55131     -0.064983\n",
       "798       55133     -0.026832\n",
       "799       55139     -0.124160\n",
       "800       56025      0.013729\n",
       "801       56039     -0.056420\n",
       "\n",
       "[802 rows x 2 columns]"
      ]
     },
     "execution_count": 94,
     "metadata": {},
     "output_type": "execute_result"
    }
   ],
   "source": [
    "emp.groupby('countyfips')['emp_combined'].mean().reset_index()"
   ]
  },
  {
   "cell_type": "code",
   "execution_count": 72,
   "metadata": {},
   "outputs": [],
   "source": []
  },
  {
   "cell_type": "code",
   "execution_count": 73,
   "metadata": {},
   "outputs": [],
   "source": [
    "merged=pd.merge(cases,spend,on=\"fips\")"
   ]
  },
  {
   "cell_type": "code",
   "execution_count": 74,
   "metadata": {},
   "outputs": [
    {
     "data": {
      "image/png": "[encoded data removed]",
      "text/plain": [
       "<Figure size 432x288 with 1 Axes>"
      ]
     },
     "metadata": {
      "needs_background": "light"
     },
     "output_type": "display_data"
    }
   ],
   "source": [
    "plt.scatter(x=\"cases\",y=\"spend_all\",data=merged)\n",
    "plt.xscale('log')"
   ]
  },
  {
   "cell_type": "code",
   "execution_count": 64,
   "metadata": {},
   "outputs": [
    {
     "data": {
      "image/png": "[encoded data removed]",
      "text/plain": [
       "<Figure size 432x288 with 1 Axes>"
      ]
     },
     "metadata": {
      "needs_background": "light"
     },
     "output_type": "display_data"
    }
   ],
   "source": [
    "plt.scatter(x=\"cases\",y=\"spend_all\",data=merged)\n",
    "plt.xscale('log')"
   ]
  },
  {
   "cell_type": "code",
   "execution_count": 65,
   "metadata": {},
   "outputs": [],
   "source": [
    "census=pd.read_csv('../data/census.csv')"
   ]
  },
  {
   "cell_type": "code",
   "execution_count": 66,
   "metadata": {},
   "outputs": [],
   "source": [
    "census=census.rename({'id':'fips'},axis=1)"
   ]
  },
  {
   "cell_type": "code",
   "execution_count": 67,
   "metadata": {},
   "outputs": [],
   "source": [
    "merged=pd.merge(merged,census[[\"median_age\",\"pop\",\"median_income\",\"fips\",'pop_density']],on='fips')"
   ]
  },
  {
   "cell_type": "code",
   "execution_count": 68,
   "metadata": {},
   "outputs": [],
   "source": [
    "merged['casespercapita']=merged['cases']/merged['pop']"
   ]
  },
  {
   "cell_type": "code",
   "execution_count": 69,
   "metadata": {},
   "outputs": [],
   "source": [
    "merged.to_csv(\"../data.csv\")"
   ]
  },
  {
   "cell_type": "code",
   "execution_count": 2,
   "metadata": {},
   "outputs": [],
   "source": [
    "merged=pd.read_csv('../data.csv')"
   ]
  },
  {
   "cell_type": "code",
   "execution_count": 3,
   "metadata": {},
   "outputs": [
    {
     "data": {
      "text/plain": [
       "Index(['Unnamed: 0', 'cases', 'fips', 'county', 'state', 'spend_all',\n",
       "       'median_age', 'pop', 'median_income', 'pop_density', 'casespercapita'],\n",
       "      dtype='object')"
      ]
     },
     "execution_count": 3,
     "metadata": {},
     "output_type": "execute_result"
    }
   ],
   "source": [
    "merged.columns"
   ]
  },
  {
   "cell_type": "code",
   "execution_count": 4,
   "metadata": {},
   "outputs": [
    {
     "data": {
      "text/plain": [
       "0.16963267734100035"
      ]
     },
     "execution_count": 4,
     "metadata": {},
     "output_type": "execute_result"
    }
   ],
   "source": [
    "merged['casespercapita'].max()"
   ]
  },
  {
   "cell_type": "code",
   "execution_count": 20,
   "metadata": {},
   "outputs": [
    {
     "data": {
      "text/plain": [
       "28213.0"
      ]
     },
     "execution_count": 20,
     "metadata": {},
     "output_type": "execute_result"
    }
   ],
   "source": [
    "merged['median_income'].median()"
   ]
  },
  {
   "cell_type": "code",
   "execution_count": 15,
   "metadata": {},
   "outputs": [],
   "source": [
    "merged['highincome']=merged['median_income']>30000"
   ]
  },
  {
   "cell_type": "code",
   "execution_count": 19,
   "metadata": {},
   "outputs": [
    {
     "data": {
      "text/plain": [
       "<matplotlib.legend.Legend at 0x7f6b54039490>"
      ]
     },
     "execution_count": 19,
     "metadata": {},
     "output_type": "execute_result"
    },
    {
     "data": {
      "image/png": "[encoded data removed]",
      "text/plain": [
       "<Figure size 432x288 with 1 Axes>"
      ]
     },
     "metadata": {
      "needs_background": "light"
     },
     "output_type": "display_data"
    }
   ],
   "source": [
    "plt.scatter(x=\"casespercapita\",y=\"spend_all\",data=merged[merged['highincome']],label=\"high income\")\n",
    "plt.scatter(x=\"casespercapita\",y=\"spend_all\",data=merged[~merged['highincome']])\n",
    "\n",
    "plt.legend()"
   ]
  },
  {
   "cell_type": "code",
   "execution_count": 14,
   "metadata": {},
   "outputs": [
    {
     "data": {
      "text/plain": [
       "525651"
      ]
     },
     "execution_count": 14,
     "metadata": {},
     "output_type": "execute_result"
    }
   ],
   "source": [
    "merged[]['cases'].max()"
   ]
  },
  {
   "cell_type": "code",
   "execution_count": null,
   "metadata": {},
   "outputs": [],
   "source": []
  }
 ],
 "metadata": {
  "kernelspec": {
   "display_name": "Python 3",
   "language": "python",
   "name": "python3"
  },
  "language_info": {
   "codemirror_mode": {
    "name": "ipython",
    "version": 3
   },
   "file_extension": ".py",
   "mimetype": "text/x-python",
   "name": "python",
   "nbconvert_exporter": "python",
   "pygments_lexer": "ipython3",
   "version": "3.7.6"
  }
 },
 "nbformat": 4,
 "nbformat_minor": 4
}
